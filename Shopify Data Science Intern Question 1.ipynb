{
 "cells": [
  {
   "cell_type": "markdown",
   "metadata": {},
   "source": [
    "## <div align = \"center\"> Fall 2020 Data Science Intern Challenge (Shopify) </div>"
   ]
  },
  {
   "cell_type": "markdown",
   "metadata": {},
   "source": [
    "### Question 1 "
   ]
  },
  {
   "cell_type": "code",
   "execution_count": 1,
   "metadata": {},
   "outputs": [
    {
     "name": "stdout",
     "output_type": "stream",
     "text": [
      "<class 'pandas.core.frame.DataFrame'>\n",
      "RangeIndex: 5000 entries, 0 to 4999\n",
      "Data columns (total 7 columns):\n",
      " #   Column          Non-Null Count  Dtype         \n",
      "---  ------          --------------  -----         \n",
      " 0   order_id        5000 non-null   int64         \n",
      " 1   shop_id         5000 non-null   int64         \n",
      " 2   user_id         5000 non-null   int64         \n",
      " 3   order_amount    5000 non-null   int64         \n",
      " 4   total_items     5000 non-null   int64         \n",
      " 5   payment_method  5000 non-null   object        \n",
      " 6   created_at      5000 non-null   datetime64[ns]\n",
      "dtypes: datetime64[ns](1), int64(5), object(1)\n",
      "memory usage: 273.6+ KB\n"
     ]
    },
    {
     "data": {
      "text/html": [
       "<div>\n",
       "<style scoped>\n",
       "    .dataframe tbody tr th:only-of-type {\n",
       "        vertical-align: middle;\n",
       "    }\n",
       "\n",
       "    .dataframe tbody tr th {\n",
       "        vertical-align: top;\n",
       "    }\n",
       "\n",
       "    .dataframe thead th {\n",
       "        text-align: right;\n",
       "    }\n",
       "</style>\n",
       "<table border=\"1\" class=\"dataframe\">\n",
       "  <thead>\n",
       "    <tr style=\"text-align: right;\">\n",
       "      <th></th>\n",
       "      <th>order_id</th>\n",
       "      <th>shop_id</th>\n",
       "      <th>user_id</th>\n",
       "      <th>order_amount</th>\n",
       "      <th>total_items</th>\n",
       "      <th>payment_method</th>\n",
       "      <th>created_at</th>\n",
       "    </tr>\n",
       "  </thead>\n",
       "  <tbody>\n",
       "    <tr>\n",
       "      <th>0</th>\n",
       "      <td>1863</td>\n",
       "      <td>39</td>\n",
       "      <td>738</td>\n",
       "      <td>536</td>\n",
       "      <td>4</td>\n",
       "      <td>cash</td>\n",
       "      <td>2017-03-01 00:08:09.179</td>\n",
       "    </tr>\n",
       "    <tr>\n",
       "      <th>1</th>\n",
       "      <td>1742</td>\n",
       "      <td>39</td>\n",
       "      <td>910</td>\n",
       "      <td>268</td>\n",
       "      <td>2</td>\n",
       "      <td>cash</td>\n",
       "      <td>2017-03-01 00:10:19.043</td>\n",
       "    </tr>\n",
       "    <tr>\n",
       "      <th>2</th>\n",
       "      <td>3229</td>\n",
       "      <td>97</td>\n",
       "      <td>912</td>\n",
       "      <td>324</td>\n",
       "      <td>2</td>\n",
       "      <td>cash</td>\n",
       "      <td>2017-03-01 00:14:12.250</td>\n",
       "    </tr>\n",
       "    <tr>\n",
       "      <th>3</th>\n",
       "      <td>1268</td>\n",
       "      <td>80</td>\n",
       "      <td>798</td>\n",
       "      <td>290</td>\n",
       "      <td>2</td>\n",
       "      <td>credit_card</td>\n",
       "      <td>2017-03-01 00:19:31.258</td>\n",
       "    </tr>\n",
       "    <tr>\n",
       "      <th>4</th>\n",
       "      <td>2690</td>\n",
       "      <td>49</td>\n",
       "      <td>799</td>\n",
       "      <td>258</td>\n",
       "      <td>2</td>\n",
       "      <td>credit_card</td>\n",
       "      <td>2017-03-01 00:22:24.790</td>\n",
       "    </tr>\n",
       "    <tr>\n",
       "      <th>5</th>\n",
       "      <td>1442</td>\n",
       "      <td>39</td>\n",
       "      <td>723</td>\n",
       "      <td>134</td>\n",
       "      <td>1</td>\n",
       "      <td>debit</td>\n",
       "      <td>2017-03-01 00:26:38.548</td>\n",
       "    </tr>\n",
       "    <tr>\n",
       "      <th>6</th>\n",
       "      <td>1116</td>\n",
       "      <td>52</td>\n",
       "      <td>815</td>\n",
       "      <td>584</td>\n",
       "      <td>4</td>\n",
       "      <td>cash</td>\n",
       "      <td>2017-03-01 00:31:04.112</td>\n",
       "    </tr>\n",
       "    <tr>\n",
       "      <th>7</th>\n",
       "      <td>3225</td>\n",
       "      <td>22</td>\n",
       "      <td>874</td>\n",
       "      <td>292</td>\n",
       "      <td>2</td>\n",
       "      <td>cash</td>\n",
       "      <td>2017-03-01 00:40:19.231</td>\n",
       "    </tr>\n",
       "    <tr>\n",
       "      <th>8</th>\n",
       "      <td>1687</td>\n",
       "      <td>74</td>\n",
       "      <td>901</td>\n",
       "      <td>459</td>\n",
       "      <td>3</td>\n",
       "      <td>credit_card</td>\n",
       "      <td>2017-03-01 00:43:38.531</td>\n",
       "    </tr>\n",
       "    <tr>\n",
       "      <th>9</th>\n",
       "      <td>3957</td>\n",
       "      <td>52</td>\n",
       "      <td>745</td>\n",
       "      <td>146</td>\n",
       "      <td>1</td>\n",
       "      <td>debit</td>\n",
       "      <td>2017-03-01 00:44:32.289</td>\n",
       "    </tr>\n",
       "  </tbody>\n",
       "</table>\n",
       "</div>"
      ],
      "text/plain": [
       "   order_id  shop_id  user_id  order_amount  total_items payment_method  \\\n",
       "0      1863       39      738           536            4           cash   \n",
       "1      1742       39      910           268            2           cash   \n",
       "2      3229       97      912           324            2           cash   \n",
       "3      1268       80      798           290            2    credit_card   \n",
       "4      2690       49      799           258            2    credit_card   \n",
       "5      1442       39      723           134            1          debit   \n",
       "6      1116       52      815           584            4           cash   \n",
       "7      3225       22      874           292            2           cash   \n",
       "8      1687       74      901           459            3    credit_card   \n",
       "9      3957       52      745           146            1          debit   \n",
       "\n",
       "               created_at  \n",
       "0 2017-03-01 00:08:09.179  \n",
       "1 2017-03-01 00:10:19.043  \n",
       "2 2017-03-01 00:14:12.250  \n",
       "3 2017-03-01 00:19:31.258  \n",
       "4 2017-03-01 00:22:24.790  \n",
       "5 2017-03-01 00:26:38.548  \n",
       "6 2017-03-01 00:31:04.112  \n",
       "7 2017-03-01 00:40:19.231  \n",
       "8 2017-03-01 00:43:38.531  \n",
       "9 2017-03-01 00:44:32.289  "
      ]
     },
     "metadata": {},
     "output_type": "display_data"
    },
    {
     "data": {
      "text/plain": [
       "None"
      ]
     },
     "metadata": {},
     "output_type": "display_data"
    },
    {
     "name": "stdout",
     "output_type": "stream",
     "text": [
      "The Number of Different Sneaker Stores is:  100\n"
     ]
    }
   ],
   "source": [
    "import pandas as pd\n",
    "from matplotlib import pyplot as plt\n",
    "%matplotlib inline\n",
    "\n",
    "\n",
    "# Import Dataset:\n",
    "df1 = pd.read_excel('2019 Winter Data Science Intern Challenge Data Set.xlsx')\n",
    "display(df1.head(10), df1.info())\n",
    "\n",
    "# Find the Number of Unique Sneakeer Stores:\n",
    "print(\"The Number of Different Sneaker Stores is: \", df1['shop_id'].nunique())\n"
   ]
  },
  {
   "cell_type": "markdown",
   "metadata": {},
   "source": [
    "### Calculate the AOV / Average of Order Amount:"
   ]
  },
  {
   "cell_type": "code",
   "execution_count": 2,
   "metadata": {},
   "outputs": [
    {
     "data": {
      "text/plain": [
       "3145.128"
      ]
     },
     "execution_count": 2,
     "metadata": {},
     "output_type": "execute_result"
    }
   ],
   "source": [
    "# Obtain the Average of order values (AOV):\n",
    "df1[\"order_amount\"].mean()"
   ]
  },
  {
   "cell_type": "markdown",
   "metadata": {},
   "source": [
    "We see that the average order amount is $3145.13, but this is the average cost of the total order amount cost of the total items. Some customers have high order amount since they ordered more than 1 item. Therefore, it will be better to define the cost per shoe in our dataframe to find the cost of each item for each order id placed.\n",
    "\n",
    "Once we have the cost per shoe for each order placed, then we can find the average cost per shoe for the 5000 orders placed. "
   ]
  },
  {
   "cell_type": "markdown",
   "metadata": {},
   "source": [
    "### Find the Order Amount Per-Item"
   ]
  },
  {
   "cell_type": "code",
   "execution_count": 3,
   "metadata": {},
   "outputs": [
    {
     "data": {
      "text/html": [
       "<div>\n",
       "<style scoped>\n",
       "    .dataframe tbody tr th:only-of-type {\n",
       "        vertical-align: middle;\n",
       "    }\n",
       "\n",
       "    .dataframe tbody tr th {\n",
       "        vertical-align: top;\n",
       "    }\n",
       "\n",
       "    .dataframe thead th {\n",
       "        text-align: right;\n",
       "    }\n",
       "</style>\n",
       "<table border=\"1\" class=\"dataframe\">\n",
       "  <thead>\n",
       "    <tr style=\"text-align: right;\">\n",
       "      <th></th>\n",
       "      <th>order_id</th>\n",
       "      <th>shop_id</th>\n",
       "      <th>user_id</th>\n",
       "      <th>order_amount</th>\n",
       "      <th>total_items</th>\n",
       "      <th>payment_method</th>\n",
       "      <th>created_at</th>\n",
       "      <th>cost_per_item</th>\n",
       "    </tr>\n",
       "  </thead>\n",
       "  <tbody>\n",
       "    <tr>\n",
       "      <th>0</th>\n",
       "      <td>1863</td>\n",
       "      <td>39</td>\n",
       "      <td>738</td>\n",
       "      <td>536</td>\n",
       "      <td>4</td>\n",
       "      <td>cash</td>\n",
       "      <td>2017-03-01 00:08:09.179</td>\n",
       "      <td>134.0</td>\n",
       "    </tr>\n",
       "    <tr>\n",
       "      <th>1</th>\n",
       "      <td>1742</td>\n",
       "      <td>39</td>\n",
       "      <td>910</td>\n",
       "      <td>268</td>\n",
       "      <td>2</td>\n",
       "      <td>cash</td>\n",
       "      <td>2017-03-01 00:10:19.043</td>\n",
       "      <td>134.0</td>\n",
       "    </tr>\n",
       "    <tr>\n",
       "      <th>2</th>\n",
       "      <td>3229</td>\n",
       "      <td>97</td>\n",
       "      <td>912</td>\n",
       "      <td>324</td>\n",
       "      <td>2</td>\n",
       "      <td>cash</td>\n",
       "      <td>2017-03-01 00:14:12.250</td>\n",
       "      <td>162.0</td>\n",
       "    </tr>\n",
       "    <tr>\n",
       "      <th>3</th>\n",
       "      <td>1268</td>\n",
       "      <td>80</td>\n",
       "      <td>798</td>\n",
       "      <td>290</td>\n",
       "      <td>2</td>\n",
       "      <td>credit_card</td>\n",
       "      <td>2017-03-01 00:19:31.258</td>\n",
       "      <td>145.0</td>\n",
       "    </tr>\n",
       "    <tr>\n",
       "      <th>4</th>\n",
       "      <td>2690</td>\n",
       "      <td>49</td>\n",
       "      <td>799</td>\n",
       "      <td>258</td>\n",
       "      <td>2</td>\n",
       "      <td>credit_card</td>\n",
       "      <td>2017-03-01 00:22:24.790</td>\n",
       "      <td>129.0</td>\n",
       "    </tr>\n",
       "    <tr>\n",
       "      <th>5</th>\n",
       "      <td>1442</td>\n",
       "      <td>39</td>\n",
       "      <td>723</td>\n",
       "      <td>134</td>\n",
       "      <td>1</td>\n",
       "      <td>debit</td>\n",
       "      <td>2017-03-01 00:26:38.548</td>\n",
       "      <td>134.0</td>\n",
       "    </tr>\n",
       "    <tr>\n",
       "      <th>6</th>\n",
       "      <td>1116</td>\n",
       "      <td>52</td>\n",
       "      <td>815</td>\n",
       "      <td>584</td>\n",
       "      <td>4</td>\n",
       "      <td>cash</td>\n",
       "      <td>2017-03-01 00:31:04.112</td>\n",
       "      <td>146.0</td>\n",
       "    </tr>\n",
       "    <tr>\n",
       "      <th>7</th>\n",
       "      <td>3225</td>\n",
       "      <td>22</td>\n",
       "      <td>874</td>\n",
       "      <td>292</td>\n",
       "      <td>2</td>\n",
       "      <td>cash</td>\n",
       "      <td>2017-03-01 00:40:19.231</td>\n",
       "      <td>146.0</td>\n",
       "    </tr>\n",
       "    <tr>\n",
       "      <th>8</th>\n",
       "      <td>1687</td>\n",
       "      <td>74</td>\n",
       "      <td>901</td>\n",
       "      <td>459</td>\n",
       "      <td>3</td>\n",
       "      <td>credit_card</td>\n",
       "      <td>2017-03-01 00:43:38.531</td>\n",
       "      <td>153.0</td>\n",
       "    </tr>\n",
       "    <tr>\n",
       "      <th>9</th>\n",
       "      <td>3957</td>\n",
       "      <td>52</td>\n",
       "      <td>745</td>\n",
       "      <td>146</td>\n",
       "      <td>1</td>\n",
       "      <td>debit</td>\n",
       "      <td>2017-03-01 00:44:32.289</td>\n",
       "      <td>146.0</td>\n",
       "    </tr>\n",
       "  </tbody>\n",
       "</table>\n",
       "</div>"
      ],
      "text/plain": [
       "   order_id  shop_id  user_id  order_amount  total_items payment_method  \\\n",
       "0      1863       39      738           536            4           cash   \n",
       "1      1742       39      910           268            2           cash   \n",
       "2      3229       97      912           324            2           cash   \n",
       "3      1268       80      798           290            2    credit_card   \n",
       "4      2690       49      799           258            2    credit_card   \n",
       "5      1442       39      723           134            1          debit   \n",
       "6      1116       52      815           584            4           cash   \n",
       "7      3225       22      874           292            2           cash   \n",
       "8      1687       74      901           459            3    credit_card   \n",
       "9      3957       52      745           146            1          debit   \n",
       "\n",
       "               created_at  cost_per_item  \n",
       "0 2017-03-01 00:08:09.179          134.0  \n",
       "1 2017-03-01 00:10:19.043          134.0  \n",
       "2 2017-03-01 00:14:12.250          162.0  \n",
       "3 2017-03-01 00:19:31.258          145.0  \n",
       "4 2017-03-01 00:22:24.790          129.0  \n",
       "5 2017-03-01 00:26:38.548          134.0  \n",
       "6 2017-03-01 00:31:04.112          146.0  \n",
       "7 2017-03-01 00:40:19.231          146.0  \n",
       "8 2017-03-01 00:43:38.531          153.0  \n",
       "9 2017-03-01 00:44:32.289          146.0  "
      ]
     },
     "execution_count": 3,
     "metadata": {},
     "output_type": "execute_result"
    }
   ],
   "source": [
    "df1['cost_per_item'] = df1['order_amount']/df1['total_items']\n",
    "df1.head(10)"
   ]
  },
  {
   "cell_type": "markdown",
   "metadata": {},
   "source": [
    "### Obtain the AOV of Cost-Per-Item:"
   ]
  },
  {
   "cell_type": "code",
   "execution_count": 4,
   "metadata": {},
   "outputs": [
    {
     "data": {
      "text/plain": [
       "387.7428"
      ]
     },
     "execution_count": 4,
     "metadata": {},
     "output_type": "execute_result"
    }
   ],
   "source": [
    "df1[\"cost_per_item\"].mean()"
   ]
  },
  {
   "cell_type": "markdown",
   "metadata": {},
   "source": [
    "As you can see, now the average cost of each shoe of $387 makes more sense. However, this value might be a little high considering that all the 100 sneaker shops only sell regular shoes. Therefore, it is still a good idea to look at the distribution of the cost of each shoe to identify any outliers."
   ]
  },
  {
   "cell_type": "markdown",
   "metadata": {},
   "source": [
    "### Obtain the Distribution of Cost-Per-Item:"
   ]
  },
  {
   "cell_type": "code",
   "execution_count": 5,
   "metadata": {},
   "outputs": [
    {
     "data": {
      "text/plain": [
       "Text(0.5, 1.0, 'Histogram of Cost-Per-Item')"
      ]
     },
     "execution_count": 5,
     "metadata": {},
     "output_type": "execute_result"
    },
    {
     "data": {
      "image/png": "[encoded data removed]",
      "text/plain": [
       "<Figure size 720x720 with 2 Axes>"
      ]
     },
     "metadata": {
      "needs_background": "light"
     },
     "output_type": "display_data"
    }
   ],
   "source": [
    "# Obtain the Distribution of Cost-Per-Item:\n",
    "fig = plt.figure(figsize=(10,10))\n",
    "ax1 = fig.add_subplot(2,1,1)\n",
    "ax2 = fig.add_subplot(2,1,2)\n",
    "\n",
    "ax1.boxplot(df1['cost_per_item'])\n",
    "ax2.hist(df1['cost_per_item'], bins = 50)\n",
    "\n",
    "ax1.set_title('Boxplot of Cost-Per-Item')\n",
    "ax2.set_title('Histogram of Cost-Per-Item')\n",
    "\n"
   ]
  },
  {
   "cell_type": "markdown",
   "metadata": {},
   "source": [
    "As we can see from the boxplot and histogram that there are outliers for the Cost-Per-Item. We see there are costs of more than 25,000 dollars for a single shoe. This does not make sense and these datapoints are causing the average value per shoe to be on a higher end of 387.74 dollars."
   ]
  },
  {
   "cell_type": "markdown",
   "metadata": {},
   "source": [
    "## Solution: Remove the Outliers Via Z-Score Method:\n"
   ]
  },
  {
   "cell_type": "code",
   "execution_count": 6,
   "metadata": {},
   "outputs": [],
   "source": [
    "from scipy import stats\n",
    "\n",
    "# Obtain Respective Z_Scores for the Variable which has the Outliers:\n",
    "Cost_Per_Item_Zscore = stats.zscore(df1['cost_per_item'])\n",
    "Cost_Per_Item_Zscore = list(Cost_Per_Item_Zscore)\n",
    "\n",
    "#---------------------------------------------------------------------------------------------------------\n",
    "\n",
    "# Create Z-Score columns for Variables that have Outliers:\n",
    "df1['Cost_Per_Item_Zscore'] = Cost_Per_Item_Zscore\n",
    "\n",
    "#----------------------------------------------------------------------------------------------------------\n",
    "\n",
    "# Filter Out the Dataframe when any of the Z-Score columns have Z-values are greater than 3 or smaller than -3:\n",
    "df1 = df1[((df1['Cost_Per_Item_Zscore'] < 3) & (df1['Cost_Per_Item_Zscore'] > -3))]\n",
    "\n"
   ]
  },
  {
   "cell_type": "markdown",
   "metadata": {},
   "source": [
    "### Check Distribution of Cost-Per-Item Again:"
   ]
  },
  {
   "cell_type": "code",
   "execution_count": 7,
   "metadata": {},
   "outputs": [
    {
     "data": {
      "text/plain": [
       "Text(0.5, 1.0, 'Histogram of Cost-Per-Item')"
      ]
     },
     "execution_count": 7,
     "metadata": {},
     "output_type": "execute_result"
    },
    {
     "data": {
      "image/png": "[encoded data removed]",
      "text/plain": [
       "<Figure size 720x720 with 2 Axes>"
      ]
     },
     "metadata": {
      "needs_background": "light"
     },
     "output_type": "display_data"
    }
   ],
   "source": [
    "fig = plt.figure(figsize=(10,10))\n",
    "ax1 = fig.add_subplot(2,1,1)\n",
    "ax2 = fig.add_subplot(2,1,2)\n",
    "\n",
    "ax1.boxplot(df1['cost_per_item'])\n",
    "ax2.hist(df1['cost_per_item'], bins = 50)\n",
    "\n",
    "ax1.set_title('Boxplot of Cost-Per-Item')\n",
    "ax2.set_title('Histogram of Cost-Per-Item')"
   ]
  },
  {
   "cell_type": "markdown",
   "metadata": {},
   "source": [
    "Now, the distribution of the cost per shoe makes much more sense after data cleaning of outliers. However, there is still an outlier of 350 dollars after cleaning and I decide to remove this as well. "
   ]
  },
  {
   "cell_type": "code",
   "execution_count": 8,
   "metadata": {},
   "outputs": [
    {
     "data": {
      "text/plain": [
       "<matplotlib.axes._subplots.AxesSubplot at 0x1dc65c4bd00>"
      ]
     },
     "execution_count": 8,
     "metadata": {},
     "output_type": "execute_result"
    },
    {
     "data": {
      "image/png": "[encoded data removed]",
      "text/plain": [
       "<Figure size 432x288 with 1 Axes>"
      ]
     },
     "metadata": {
      "needs_background": "light"
     },
     "output_type": "display_data"
    }
   ],
   "source": [
    "# Remove the $350 Outlier:\n",
    "df1 = df1[(df1['cost_per_item'] < 350)]\n",
    "\n",
    "df1['cost_per_item'].plot(kind = 'box')"
   ]
  },
  {
   "cell_type": "markdown",
   "metadata": {},
   "source": [
    "### With the cleaned dataset, I can now report the AOV of the Order Amount"
   ]
  },
  {
   "cell_type": "code",
   "execution_count": 9,
   "metadata": {},
   "outputs": [
    {
     "data": {
      "text/plain": [
       "300.1558229655313"
      ]
     },
     "execution_count": 9,
     "metadata": {},
     "output_type": "execute_result"
    }
   ],
   "source": [
    "df1['order_amount'].mean()"
   ]
  },
  {
   "cell_type": "markdown",
   "metadata": {},
   "source": [
    "Now this AOV Order Amount of 300 dollars makes much more sense compared to our starting value fo 3145.13 dollars. Given that the sneaker shops sell a relatively affordable item, this new AOV value makes sense for order purchase. However, for this dataset, it would be better to report the average revenue / cost per shoe sold. This is because we can have various customers buying different number of shoes. If the number of customers / orders are few and the number of purchases per order is huge (Eg; 4-5), then the AOV of the Order Amount will be huge. It is better to use the average cost per shoe as the metric for this dataset. "
   ]
  },
  {
   "cell_type": "markdown",
   "metadata": {},
   "source": [
    "### Average Cost Per Shoe  / Item"
   ]
  },
  {
   "cell_type": "code",
   "execution_count": 10,
   "metadata": {},
   "outputs": [
    {
     "data": {
      "text/plain": [
       "150.40016316540894"
      ]
     },
     "execution_count": 10,
     "metadata": {},
     "output_type": "execute_result"
    }
   ],
   "source": [
    "df1['cost_per_item'].mean()"
   ]
  },
  {
   "cell_type": "markdown",
   "metadata": {},
   "source": [
    "The average revenue per shoe sold is 150 dollars. This makes sense as the sneaker shops are selling only regular shoes. "
   ]
  }
 ],
 "metadata": {
  "kernelspec": {
   "display_name": "Python 3",
   "language": "python",
   "name": "python3"
  },
  "language_info": {
   "codemirror_mode": {
    "name": "ipython",
    "version": 3
   },
   "file_extension": ".py",
   "mimetype": "text/x-python",
   "name": "python",
   "nbconvert_exporter": "python",
   "pygments_lexer": "ipython3",
   "version": "3.8.3"
  }
 },
 "nbformat": 4,
 "nbformat_minor": 4
}
